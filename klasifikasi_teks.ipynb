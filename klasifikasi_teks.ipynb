{
  "cells": [
    {
      "cell_type": "code",
      "source": [
        "import numpy as np\n",
        "from tensorflow.keras.preprocessing.text import Tokenizer\n",
        "from tensorflow.keras.preprocessing.sequence import pad_sequences\n",
        "from tensorflow.keras.models import Sequential\n",
        "from tensorflow.keras.layers import Embedding, Conv1D, GlobalMaxPooling1D, Dense, Dropout\n",
        "\n",
        "# Contoh kalimat\n",
        "sentences = [\n",
        "    \"Saya suka cuaca hari ini.\",\n",
        "    \"Mobil itu rusak.\",\n",
        "    \"Hari ini sangat cerah dan menyenangkan.\",\n",
        "    \"Saya benci ketika hujan.\",\n",
        "    \"Kendaraan itu berfungsi dengan baik.\",\n",
        "    \"Cuaca hari ini buruk sekali.\"\n",
        "]\n",
        "labels = np.array([1, 0, 1, 0, 1, 0])  # 1 untuk positif, 0 untuk negatif\n",
        "\n",
        "# Tokenisasi\n",
        "tokenizer = Tokenizer(num_words=1000)\n",
        "tokenizer.fit_on_texts(sentences)\n",
        "sequences = tokenizer.texts_to_sequences(sentences)\n",
        "word_index = tokenizer.word_index\n",
        "\n",
        "# Padding\n",
        "maxlen = 20\n",
        "data = pad_sequences(sequences, maxlen=maxlen)\n",
        "\n",
        "print(\"Data setelah padding:\")\n",
        "print(data)\n",
        "print(\"Indeks kata:\")\n",
        "print(word_index)"
      ],
      "metadata": {
        "id": "e2CiF3oYx6hp",
        "outputId": "8fc7e460-af33-4bdb-c8ea-cd752819ff12",
        "colab": {
          "base_uri": "https://localhost:8080/"
        }
      },
      "execution_count": 1,
      "outputs": [
        {
          "output_type": "stream",
          "name": "stdout",
          "text": [
            "Data setelah padding:\n",
            "[[ 0  0  0  0  0  0  0  0  0  0  0  0  0  0  0  3  6  4  1  2]\n",
            " [ 0  0  0  0  0  0  0  0  0  0  0  0  0  0  0  0  0  7  5  8]\n",
            " [ 0  0  0  0  0  0  0  0  0  0  0  0  0  0  1  2  9 10 11 12]\n",
            " [ 0  0  0  0  0  0  0  0  0  0  0  0  0  0  0  0  3 13 14 15]\n",
            " [ 0  0  0  0  0  0  0  0  0  0  0  0  0  0  0 16  5 17 18 19]\n",
            " [ 0  0  0  0  0  0  0  0  0  0  0  0  0  0  0  4  1  2 20 21]]\n",
            "Indeks kata:\n",
            "{'hari': 1, 'ini': 2, 'saya': 3, 'cuaca': 4, 'itu': 5, 'suka': 6, 'mobil': 7, 'rusak': 8, 'sangat': 9, 'cerah': 10, 'dan': 11, 'menyenangkan': 12, 'benci': 13, 'ketika': 14, 'hujan': 15, 'kendaraan': 16, 'berfungsi': 17, 'dengan': 18, 'baik': 19, 'buruk': 20, 'sekali': 21}\n"
          ]
        }
      ]
    },
    {
      "cell_type": "code",
      "source": [
        "vocab_size = len(word_index) + 1  # +1 untuk padding token\n",
        "\n",
        "model = Sequential([\n",
        "    Embedding(input_dim=vocab_size, output_dim=50, input_length=maxlen),\n",
        "    Conv1D(filters=128, kernel_size=5, activation='relu'),\n",
        "    GlobalMaxPooling1D(),\n",
        "    Dense(10, activation='relu'),\n",
        "    Dropout(0.5),\n",
        "    Dense(1, activation='sigmoid')\n",
        "])\n",
        "\n",
        "model.compile(optimizer='adam', loss='binary_crossentropy', metrics=['accuracy'])\n",
        "model.summary()"
      ],
      "metadata": {
        "id": "dzyM_DqmyDmA",
        "outputId": "a60053b4-f1b7-41e1-c0d1-43aefa27d333",
        "colab": {
          "base_uri": "https://localhost:8080/"
        }
      },
      "execution_count": 2,
      "outputs": [
        {
          "output_type": "stream",
          "name": "stdout",
          "text": [
            "Model: \"sequential\"\n",
            "_________________________________________________________________\n",
            " Layer (type)                Output Shape              Param #   \n",
            "=================================================================\n",
            " embedding (Embedding)       (None, 20, 50)            1100      \n",
            "                                                                 \n",
            " conv1d (Conv1D)             (None, 16, 128)           32128     \n",
            "                                                                 \n",
            " global_max_pooling1d (Glob  (None, 128)               0         \n",
            " alMaxPooling1D)                                                 \n",
            "                                                                 \n",
            " dense (Dense)               (None, 10)                1290      \n",
            "                                                                 \n",
            " dropout (Dropout)           (None, 10)                0         \n",
            "                                                                 \n",
            " dense_1 (Dense)             (None, 1)                 11        \n",
            "                                                                 \n",
            "=================================================================\n",
            "Total params: 34529 (134.88 KB)\n",
            "Trainable params: 34529 (134.88 KB)\n",
            "Non-trainable params: 0 (0.00 Byte)\n",
            "_________________________________________________________________\n"
          ]
        }
      ]
    },
    {
      "cell_type": "code",
      "source": [
        "model.fit(data, labels, epochs=10, verbose=1)"
      ],
      "metadata": {
        "id": "lok1SXDsyDpu",
        "outputId": "29c2d926-d60a-413a-bd72-3ce98c8ab249",
        "colab": {
          "base_uri": "https://localhost:8080/"
        }
      },
      "execution_count": 3,
      "outputs": [
        {
          "output_type": "stream",
          "name": "stdout",
          "text": [
            "Epoch 1/10\n",
            "1/1 [==============================] - 1s 1s/step - loss: 0.7059 - accuracy: 0.1667\n",
            "Epoch 2/10\n",
            "1/1 [==============================] - 0s 13ms/step - loss: 0.6885 - accuracy: 0.5000\n",
            "Epoch 3/10\n",
            "1/1 [==============================] - 0s 13ms/step - loss: 0.6843 - accuracy: 0.5000\n",
            "Epoch 4/10\n",
            "1/1 [==============================] - 0s 13ms/step - loss: 0.6894 - accuracy: 0.6667\n",
            "Epoch 5/10\n",
            "1/1 [==============================] - 0s 13ms/step - loss: 0.6807 - accuracy: 0.8333\n",
            "Epoch 6/10\n",
            "1/1 [==============================] - 0s 15ms/step - loss: 0.6716 - accuracy: 0.8333\n",
            "Epoch 7/10\n",
            "1/1 [==============================] - 0s 15ms/step - loss: 0.6583 - accuracy: 1.0000\n",
            "Epoch 8/10\n",
            "1/1 [==============================] - 0s 13ms/step - loss: 0.6518 - accuracy: 0.8333\n",
            "Epoch 9/10\n",
            "1/1 [==============================] - 0s 14ms/step - loss: 0.6509 - accuracy: 0.6667\n",
            "Epoch 10/10\n",
            "1/1 [==============================] - 0s 14ms/step - loss: 0.6541 - accuracy: 0.5000\n"
          ]
        },
        {
          "output_type": "execute_result",
          "data": {
            "text/plain": [
              "<keras.src.callbacks.History at 0x7b0d9be9a350>"
            ]
          },
          "metadata": {},
          "execution_count": 3
        }
      ]
    },
    {
      "cell_type": "code",
      "source": [
        "# Contoh kalimat baru untuk prediksi\n",
        "test_sentences = [\"Cuaca hari ini bagus.\", \"Mobil itu rusak parah.\"]\n",
        "test_sequences = tokenizer.texts_to_sequences(test_sentences)\n",
        "X_test = pad_sequences(test_sequences, maxlen=maxlen)\n",
        "\n",
        "predictions = model.predict(X_test)\n",
        "\n",
        "# Output hasil prediksi\n",
        "for sentence, prediction in zip(test_sentences, predictions):\n",
        "    print(\"Kalimat:\", sentence)\n",
        "    if prediction > 0.5:\n",
        "        print(\"Prediksi: Positif\")\n",
        "    else:\n",
        "        print(\"Prediksi: Negatif\")\n",
        "    print()"
      ],
      "metadata": {
        "id": "h6IqLlkUyDtm",
        "outputId": "f8b77960-929c-4a4c-bd0e-0de60a63dfc0",
        "colab": {
          "base_uri": "https://localhost:8080/"
        }
      },
      "execution_count": 4,
      "outputs": [
        {
          "output_type": "stream",
          "name": "stdout",
          "text": [
            "1/1 [==============================] - 0s 107ms/step\n",
            "Kalimat: Cuaca hari ini bagus.\n",
            "Prediksi: Positif\n",
            "\n",
            "Kalimat: Mobil itu rusak parah.\n",
            "Prediksi: Positif\n",
            "\n"
          ]
        }
      ]
    },
    {
      "cell_type": "code",
      "source": [],
      "metadata": {
        "id": "nAT69iwnyDvm"
      },
      "execution_count": null,
      "outputs": []
    }
  ],
  "metadata": {
    "colab": {
      "name": "Selamat Datang di Colaboratory",
      "toc_visible": true,
      "provenance": []
    },
    "kernelspec": {
      "display_name": "Python 3",
      "name": "python3"
    }
  },
  "nbformat": 4,
  "nbformat_minor": 0
}